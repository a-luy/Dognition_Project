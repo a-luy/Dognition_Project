{
 "cells": [
  {
   "cell_type": "code",
   "execution_count": 1,
   "id": "5eb3c209",
   "metadata": {},
   "outputs": [],
   "source": [
    "######################## DOG AGE VERSUS SUBSCRIPTION RATE ##################################\n",
    "import matplotlib as plt\n",
    "import pandas as pd\n",
    "import numpy as num\n",
    "%matplotlib inline    "
   ]
  },
  {
   "cell_type": "code",
   "execution_count": 2,
   "id": "bd148da7",
   "metadata": {},
   "outputs": [
    {
     "name": "stdout",
     "output_type": "stream",
     "text": [
      "                Created_at          Updated_at  \\\n",
      "0      2013-05-13 16:17:00 2013-05-13 16:17:00   \n",
      "1      2013-05-22 18:54:00 2013-05-22 18:54:00   \n",
      "2      2013-05-22 18:55:00 2013-05-22 18:55:00   \n",
      "3      2013-05-22 18:56:00 2013-05-22 18:56:00   \n",
      "4      2013-05-22 18:58:00 2013-05-22 18:58:00   \n",
      "...                    ...                 ...   \n",
      "177476 2013-05-14 08:45:00 2013-05-14 08:45:00   \n",
      "177477 2013-05-14 08:50:00 2013-05-14 08:50:00   \n",
      "177478 2013-05-14 08:54:00 2013-05-14 08:54:00   \n",
      "177479 2013-05-19 04:45:00 2013-05-19 04:45:00   \n",
      "177480 2013-05-19 05:05:00 2013-05-19 05:05:00   \n",
      "\n",
      "                                     User_ID  \\\n",
      "0       ce134a78-7144-11e5-ba71-058fbc01cf0b   \n",
      "1       ce134a78-7144-11e5-ba71-058fbc01cf0b   \n",
      "2       ce134a78-7144-11e5-ba71-058fbc01cf0b   \n",
      "3       ce134a78-7144-11e5-ba71-058fbc01cf0b   \n",
      "4       ce134a78-7144-11e5-ba71-058fbc01cf0b   \n",
      "...                                      ...   \n",
      "177476  ce2777e6-7144-11e5-ba71-058fbc01cf0b   \n",
      "177477  ce2777e6-7144-11e5-ba71-058fbc01cf0b   \n",
      "177478  ce2777e6-7144-11e5-ba71-058fbc01cf0b   \n",
      "177479  ce2777e6-7144-11e5-ba71-058fbc01cf0b   \n",
      "177480  ce2777e6-7144-11e5-ba71-058fbc01cf0b   \n",
      "\n",
      "                                      Dog_ID               Test_name  \\\n",
      "0       fd3d1b44-7144-11e5-ba71-058fbc01cf0b            Yawn Warm-up   \n",
      "1       fd3d1b44-7144-11e5-ba71-058fbc01cf0b               Yawn Game   \n",
      "2       fd3d1b44-7144-11e5-ba71-058fbc01cf0b     Eye Contact Warm-up   \n",
      "3       fd3d1b44-7144-11e5-ba71-058fbc01cf0b        Eye Contact Game   \n",
      "4       fd3d1b44-7144-11e5-ba71-058fbc01cf0b           Treat Warm-up   \n",
      "...                                      ...                     ...   \n",
      "177476  fd444202-7144-11e5-ba71-058fbc01cf0b         One Cup Warm-up   \n",
      "177477  fd444202-7144-11e5-ba71-058fbc01cf0b         Two Cup Warm-up   \n",
      "177478  fd444202-7144-11e5-ba71-058fbc01cf0b  Memory versus Pointing   \n",
      "177479  fd444202-7144-11e5-ba71-058fbc01cf0b     Memory versus Smell   \n",
      "177480  fd444202-7144-11e5-ba71-058fbc01cf0b        Delayed Cup Game   \n",
      "\n",
      "       Subcategory_name Gender  Birthday     Breed  \\\n",
      "0               Empathy   male      2009  Shih Tzu   \n",
      "1               Empathy   male      2009  Shih Tzu   \n",
      "2               Empathy   male      2009  Shih Tzu   \n",
      "3               Empathy   male      2009  Shih Tzu   \n",
      "4         Communication   male      2009  Shih Tzu   \n",
      "...                 ...    ...       ...       ...   \n",
      "177476           Memory   male      2012     Mixed   \n",
      "177477           Memory   male      2012     Mixed   \n",
      "177478           Memory   male      2012     Mixed   \n",
      "177479           Memory   male      2012     Mixed   \n",
      "177480           Memory   male      2012     Mixed   \n",
      "\n",
      "                              Breed_Type  ... State     Zip  Country  Exclude  \\\n",
      "0                             Pure Breed  ...    NC   27701       US        1   \n",
      "1                             Pure Breed  ...    NC   27701       US        1   \n",
      "2                             Pure Breed  ...    NC   27701       US        1   \n",
      "3                             Pure Breed  ...    NC   27701       US        1   \n",
      "4                             Pure Breed  ...    NC   27701       US        1   \n",
      "...                                  ...  ...   ...     ...      ...      ...   \n",
      "177476  Mixed Breed/ Other/ I Don't Know  ...   NaN  466311       SG      NaN   \n",
      "177477  Mixed Breed/ Other/ I Don't Know  ...   NaN  466311       SG      NaN   \n",
      "177478  Mixed Breed/ Other/ I Don't Know  ...   NaN  466311       SG      NaN   \n",
      "177479  Mixed Breed/ Other/ I Don't Know  ...   NaN  466311       SG      NaN   \n",
      "177480  Mixed Breed/ Other/ I Don't Know  ...   NaN  466311       SG      NaN   \n",
      "\n",
      "       Free_Start_User       Last_Active_At  Membership_Type  Rating  \\\n",
      "0                    0  2015-02-23 13:39:00                2     NaN   \n",
      "1                    0  2015-02-23 13:39:00                2     NaN   \n",
      "2                    0  2015-02-23 13:39:00                2     NaN   \n",
      "3                    0  2015-02-23 13:39:00                2     NaN   \n",
      "4                    0  2015-02-23 13:39:00                2     NaN   \n",
      "...                ...                  ...              ...     ...   \n",
      "177476             NaN  2014-04-28 01:18:00                1     NaN   \n",
      "177477             NaN  2014-04-28 01:18:00                1     NaN   \n",
      "177478             NaN  2014-04-28 01:18:00                1     NaN   \n",
      "177479             NaN  2014-04-28 01:18:00                1     NaN   \n",
      "177480             NaN  2014-04-28 01:18:00                1     NaN   \n",
      "\n",
      "        Rank_by_UserID Rank_by_DogID  \n",
      "0                  1.0           1.0  \n",
      "1                  2.0           2.0  \n",
      "2                  3.0           3.0  \n",
      "3                  4.0           4.0  \n",
      "4                  5.0           5.0  \n",
      "...                ...           ...  \n",
      "177476            12.0          12.0  \n",
      "177477            13.0          13.0  \n",
      "177478            14.0          14.0  \n",
      "177479            15.0          15.0  \n",
      "177480            16.0          16.0  \n",
      "\n",
      "[177481 rows x 30 columns]\n"
     ]
    }
   ],
   "source": [
    "path = \"/Users/yarkingazi/Desktop/dognition_data_no_aggregation_with_zip_code_correction.xlsx\"\n",
    "data = pd.read_excel(path)\n",
    "print(data)    "
   ]
  },
  {
   "cell_type": "code",
   "execution_count": 3,
   "id": "3e4114c8",
   "metadata": {},
   "outputs": [
    {
     "name": "stdout",
     "output_type": "stream",
     "text": [
      "Number of unique values in column \"Birthday\" of the dataframe : \n",
      "26\n"
     ]
    }
   ],
   "source": [
    "uniqueValues = data['Birthday'].nunique()\n",
    "print('Number of unique values in column \"Birthday\" of the dataframe : ')\n",
    "print(uniqueValues)\n",
    "##I wanted to have a look at the range of the ages among dogs."
   ]
  },
  {
   "cell_type": "code",
   "execution_count": 4,
   "id": "91b66f8c",
   "metadata": {},
   "outputs": [
    {
     "name": "stdout",
     "output_type": "stream",
     "text": [
      "0         2009\n",
      "1         2009\n",
      "2         2009\n",
      "3         2009\n",
      "4         2009\n",
      "          ... \n",
      "177476    2012\n",
      "177477    2012\n",
      "177478    2012\n",
      "177479    2012\n",
      "177480    2012\n",
      "Name: Birthday, Length: 177481, dtype: int64\n"
     ]
    }
   ],
   "source": [
    "dataframe0 = pd.read_excel(\"/Users/yarkingazi/Desktop/dognition_data_no_aggregation_with_zip_code_correction.xlsx\") \n",
    "dataframe1 = pd.DataFrame(dataframe0)\n",
    "print(dataframe0['Birthday'])\n"
   ]
  },
  {
   "cell_type": "code",
   "execution_count": 5,
   "id": "8b45a7ec",
   "metadata": {},
   "outputs": [
    {
     "name": "stdout",
     "output_type": "stream",
     "text": [
      "Birthday\n",
      "1982       27\n",
      "1983       99\n",
      "1984        0\n",
      "1991        0\n",
      "1992        0\n",
      "1994        4\n",
      "1996       20\n",
      "1997       33\n",
      "1998       26\n",
      "1999      162\n",
      "2000      351\n",
      "2001      706\n",
      "2002     1170\n",
      "2003     1731\n",
      "2004     3473\n",
      "2005     4413\n",
      "2006     5910\n",
      "2007     7320\n",
      "2008     8879\n",
      "2009    11032\n",
      "2010    12347\n",
      "2011    14573\n",
      "2012    18174\n",
      "2013    15073\n",
      "2014     8879\n",
      "2015     3657\n",
      "Name: Subscribed, dtype: int64\n"
     ]
    }
   ],
   "source": [
    "  dataframe2 = dataframe0.groupby('Birthday')['Subscribed'].sum()\n",
    "  print(dataframe2)\n",
    "##We can observe that older dog owners are actually not the majority among those who subscribed."
   ]
  },
  {
   "cell_type": "code",
   "execution_count": 6,
   "id": "2c03acbf",
   "metadata": {},
   "outputs": [
    {
     "data": {
      "text/plain": [
       "<AxesSubplot:xlabel='Birthday'>"
      ]
     },
     "execution_count": 6,
     "metadata": {},
     "output_type": "execute_result"
    },
    {
     "data": {
      "image/png": "[encoded data removed]",
      "text/plain": [
       "<Figure size 432x288 with 1 Axes>"
      ]
     },
     "metadata": {
      "needs_background": "light"
     },
     "output_type": "display_data"
    }
   ],
   "source": [
    " \n",
    "# plotting the points\n",
    "dataframe2.plot(kind='bar',x='name',y='age')\n",
    "\n"
   ]
  },
  {
   "cell_type": "code",
   "execution_count": null,
   "id": "cfc032d2",
   "metadata": {},
   "outputs": [],
   "source": []
  }
 ],
 "metadata": {
  "kernelspec": {
   "display_name": "Python 3 (ipykernel)",
   "language": "python",
   "name": "python3"
  },
  "language_info": {
   "codemirror_mode": {
    "name": "ipython",
    "version": 3
   },
   "file_extension": ".py",
   "mimetype": "text/x-python",
   "name": "python",
   "nbconvert_exporter": "python",
   "pygments_lexer": "ipython3",
   "version": "3.8.5"
  }
 },
 "nbformat": 4,
 "nbformat_minor": 5
}
