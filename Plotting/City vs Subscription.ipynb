{
 "cells": [
  {
   "cell_type": "code",
   "execution_count": null,
   "id": "acac4999",
   "metadata": {},
   "outputs": [],
   "source": [
    "######################## CITY VERSUS SUBSCRIPTION RATE ##################################\n",
    "\n",
    "import pandas as pd\n",
    "import numpy as num\n",
    "import matplotlib.pyplot as plt\n",
    "%matplotlib inline "
   ]
  },
  {
   "cell_type": "code",
   "execution_count": null,
   "id": "3bd2f759",
   "metadata": {},
   "outputs": [],
   "source": [
    "path = \"/Users/yarkingazi/Desktop/dognition_data_no_aggregation_with_zip_code_correction.xlsx\"\n",
    "data = pd.read_excel(path)\n",
    "print(data) "
   ]
  },
  {
   "cell_type": "code",
   "execution_count": null,
   "id": "32a2bb18",
   "metadata": {},
   "outputs": [],
   "source": [
    "uniqueValues = data['City'].nunique()\n",
    "print('Number of unique values in column \"City\" of the dataframe : ')\n",
    "print(uniqueValues)\n",
    "##I wanted to have a look at the number of the cities among all."
   ]
  },
  {
   "cell_type": "code",
   "execution_count": null,
   "id": "ddd5d798",
   "metadata": {},
   "outputs": [],
   "source": [
    "dataframe0 = pd.read_excel(\"/Users/yarkingazi/Desktop/dognition_data_no_aggregation_with_zip_code_correction.xlsx\") \n",
    "dataframe1 = pd.DataFrame(dataframe0)\n",
    "print(dataframe0['City'])\n"
   ]
  },
  {
   "cell_type": "code",
   "execution_count": null,
   "id": "23d99666",
   "metadata": {},
   "outputs": [],
   "source": [
    "dataframe2 = dataframe1.groupby('City')['Subscribed'].sum().nlargest(15,'first')\n",
    "\n",
    "print(dataframe2)"
   ]
  },
  {
   "cell_type": "code",
   "execution_count": null,
   "id": "89dfc62d",
   "metadata": {},
   "outputs": [],
   "source": [
    "plt.plot(dataframe2)\n",
    "plt.xticks(rotation=35)\n",
    "plt.show()\n",
    "\n",
    "###Below figure says that most subscribers are from New York. And the most subscribers\n",
    "###are the cities can be seen in the x-axis."
   ]
  },
  {
   "cell_type": "code",
   "execution_count": null,
   "id": "c03747e1",
   "metadata": {},
   "outputs": [],
   "source": []
  }
 ],
 "metadata": {
  "kernelspec": {
   "display_name": "Python 3 (ipykernel)",
   "language": "python",
   "name": "python3"
  },
  "language_info": {
   "codemirror_mode": {
    "name": "ipython",
    "version": 3
   },
   "file_extension": ".py",
   "mimetype": "text/x-python",
   "name": "python",
   "nbconvert_exporter": "python",
   "pygments_lexer": "ipython3",
   "version": "3.9.7"
  }
 },
 "nbformat": 4,
 "nbformat_minor": 5
}
