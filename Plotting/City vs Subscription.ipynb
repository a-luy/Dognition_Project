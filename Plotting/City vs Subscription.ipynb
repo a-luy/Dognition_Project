{
 "cells": [
  {
   "cell_type": "code",
   "execution_count": 48,
   "id": "acac4999",
   "metadata": {},
   "outputs": [],
   "source": [
    "######################## CITY VERSUS SUBSCRIPTION RATE ##################################\n",
    "\n",
    "import pandas as pd\n",
    "import numpy as num\n",
    "import matplotlib.pyplot as plt\n",
    "%matplotlib inline "
   ]
  },
  {
   "cell_type": "code",
   "execution_count": 2,
   "id": "3bd2f759",
   "metadata": {},
   "outputs": [
    {
     "name": "stdout",
     "output_type": "stream",
     "text": [
      "                Created_at          Updated_at  \\\n",
      "0      2013-05-13 16:17:00 2013-05-13 16:17:00   \n",
      "1      2013-05-22 18:54:00 2013-05-22 18:54:00   \n",
      "2      2013-05-22 18:55:00 2013-05-22 18:55:00   \n",
      "3      2013-05-22 18:56:00 2013-05-22 18:56:00   \n",
      "4      2013-05-22 18:58:00 2013-05-22 18:58:00   \n",
      "...                    ...                 ...   \n",
      "177476 2013-05-14 08:45:00 2013-05-14 08:45:00   \n",
      "177477 2013-05-14 08:50:00 2013-05-14 08:50:00   \n",
      "177478 2013-05-14 08:54:00 2013-05-14 08:54:00   \n",
      "177479 2013-05-19 04:45:00 2013-05-19 04:45:00   \n",
      "177480 2013-05-19 05:05:00 2013-05-19 05:05:00   \n",
      "\n",
      "                                     User_ID  \\\n",
      "0       ce134a78-7144-11e5-ba71-058fbc01cf0b   \n",
      "1       ce134a78-7144-11e5-ba71-058fbc01cf0b   \n",
      "2       ce134a78-7144-11e5-ba71-058fbc01cf0b   \n",
      "3       ce134a78-7144-11e5-ba71-058fbc01cf0b   \n",
      "4       ce134a78-7144-11e5-ba71-058fbc01cf0b   \n",
      "...                                      ...   \n",
      "177476  ce2777e6-7144-11e5-ba71-058fbc01cf0b   \n",
      "177477  ce2777e6-7144-11e5-ba71-058fbc01cf0b   \n",
      "177478  ce2777e6-7144-11e5-ba71-058fbc01cf0b   \n",
      "177479  ce2777e6-7144-11e5-ba71-058fbc01cf0b   \n",
      "177480  ce2777e6-7144-11e5-ba71-058fbc01cf0b   \n",
      "\n",
      "                                      Dog_ID               Test_name  \\\n",
      "0       fd3d1b44-7144-11e5-ba71-058fbc01cf0b            Yawn Warm-up   \n",
      "1       fd3d1b44-7144-11e5-ba71-058fbc01cf0b               Yawn Game   \n",
      "2       fd3d1b44-7144-11e5-ba71-058fbc01cf0b     Eye Contact Warm-up   \n",
      "3       fd3d1b44-7144-11e5-ba71-058fbc01cf0b        Eye Contact Game   \n",
      "4       fd3d1b44-7144-11e5-ba71-058fbc01cf0b           Treat Warm-up   \n",
      "...                                      ...                     ...   \n",
      "177476  fd444202-7144-11e5-ba71-058fbc01cf0b         One Cup Warm-up   \n",
      "177477  fd444202-7144-11e5-ba71-058fbc01cf0b         Two Cup Warm-up   \n",
      "177478  fd444202-7144-11e5-ba71-058fbc01cf0b  Memory versus Pointing   \n",
      "177479  fd444202-7144-11e5-ba71-058fbc01cf0b     Memory versus Smell   \n",
      "177480  fd444202-7144-11e5-ba71-058fbc01cf0b        Delayed Cup Game   \n",
      "\n",
      "       Subcategory_name Gender  Birthday     Breed  \\\n",
      "0               Empathy   male      2009  Shih Tzu   \n",
      "1               Empathy   male      2009  Shih Tzu   \n",
      "2               Empathy   male      2009  Shih Tzu   \n",
      "3               Empathy   male      2009  Shih Tzu   \n",
      "4         Communication   male      2009  Shih Tzu   \n",
      "...                 ...    ...       ...       ...   \n",
      "177476           Memory   male      2012     Mixed   \n",
      "177477           Memory   male      2012     Mixed   \n",
      "177478           Memory   male      2012     Mixed   \n",
      "177479           Memory   male      2012     Mixed   \n",
      "177480           Memory   male      2012     Mixed   \n",
      "\n",
      "                              Breed_Type  ... State     Zip  Country  Exclude  \\\n",
      "0                             Pure Breed  ...    NC   27701       US        1   \n",
      "1                             Pure Breed  ...    NC   27701       US        1   \n",
      "2                             Pure Breed  ...    NC   27701       US        1   \n",
      "3                             Pure Breed  ...    NC   27701       US        1   \n",
      "4                             Pure Breed  ...    NC   27701       US        1   \n",
      "...                                  ...  ...   ...     ...      ...      ...   \n",
      "177476  Mixed Breed/ Other/ I Don't Know  ...   NaN  466311       SG      NaN   \n",
      "177477  Mixed Breed/ Other/ I Don't Know  ...   NaN  466311       SG      NaN   \n",
      "177478  Mixed Breed/ Other/ I Don't Know  ...   NaN  466311       SG      NaN   \n",
      "177479  Mixed Breed/ Other/ I Don't Know  ...   NaN  466311       SG      NaN   \n",
      "177480  Mixed Breed/ Other/ I Don't Know  ...   NaN  466311       SG      NaN   \n",
      "\n",
      "       Free_Start_User       Last_Active_At  Membership_Type  Rating  \\\n",
      "0                    0  2015-02-23 13:39:00                2     NaN   \n",
      "1                    0  2015-02-23 13:39:00                2     NaN   \n",
      "2                    0  2015-02-23 13:39:00                2     NaN   \n",
      "3                    0  2015-02-23 13:39:00                2     NaN   \n",
      "4                    0  2015-02-23 13:39:00                2     NaN   \n",
      "...                ...                  ...              ...     ...   \n",
      "177476             NaN  2014-04-28 01:18:00                1     NaN   \n",
      "177477             NaN  2014-04-28 01:18:00                1     NaN   \n",
      "177478             NaN  2014-04-28 01:18:00                1     NaN   \n",
      "177479             NaN  2014-04-28 01:18:00                1     NaN   \n",
      "177480             NaN  2014-04-28 01:18:00                1     NaN   \n",
      "\n",
      "        Rank_by_UserID Rank_by_DogID  \n",
      "0                  1.0           1.0  \n",
      "1                  2.0           2.0  \n",
      "2                  3.0           3.0  \n",
      "3                  4.0           4.0  \n",
      "4                  5.0           5.0  \n",
      "...                ...           ...  \n",
      "177476            12.0          12.0  \n",
      "177477            13.0          13.0  \n",
      "177478            14.0          14.0  \n",
      "177479            15.0          15.0  \n",
      "177480            16.0          16.0  \n",
      "\n",
      "[177481 rows x 30 columns]\n"
     ]
    }
   ],
   "source": [
    "path = \"/Users/yarkingazi/Desktop/dognition_data_no_aggregation_with_zip_code_correction.xlsx\"\n",
    "data = pd.read_excel(path)\n",
    "print(data) "
   ]
  },
  {
   "cell_type": "code",
   "execution_count": 3,
   "id": "32a2bb18",
   "metadata": {},
   "outputs": [
    {
     "name": "stdout",
     "output_type": "stream",
     "text": [
      "Number of unique values in column \"City\" of the dataframe : \n",
      "3398\n"
     ]
    }
   ],
   "source": [
    "uniqueValues = data['City'].nunique()\n",
    "print('Number of unique values in column \"City\" of the dataframe : ')\n",
    "print(uniqueValues)\n",
    "##I wanted to have a look at the number of the cities among all."
   ]
  },
  {
   "cell_type": "code",
   "execution_count": 4,
   "id": "ddd5d798",
   "metadata": {},
   "outputs": [
    {
     "name": "stdout",
     "output_type": "stream",
     "text": [
      "0            Durham\n",
      "1            Durham\n",
      "2            Durham\n",
      "3            Durham\n",
      "4            Durham\n",
      "            ...    \n",
      "177476    Singapore\n",
      "177477    Singapore\n",
      "177478    Singapore\n",
      "177479    Singapore\n",
      "177480    Singapore\n",
      "Name: City, Length: 177481, dtype: object\n"
     ]
    }
   ],
   "source": [
    "dataframe0 = pd.read_excel(\"/Users/yarkingazi/Desktop/dognition_data_no_aggregation_with_zip_code_correction.xlsx\") \n",
    "dataframe1 = pd.DataFrame(dataframe0)\n",
    "print(dataframe0['City'])\n"
   ]
  },
  {
   "cell_type": "code",
   "execution_count": 43,
   "id": "23d99666",
   "metadata": {},
   "outputs": [
    {
     "name": "stdout",
     "output_type": "stream",
     "text": [
      "City\n",
      "New York         1396\n",
      "Raleigh          1359\n",
      "Chicago          1223\n",
      "Seattle           916\n",
      "Austin            856\n",
      "San Diego         831\n",
      "Durham            818\n",
      "Los Angeles       817\n",
      "Toronto           672\n",
      "Denver            643\n",
      "Washington        634\n",
      "Portland          604\n",
      "San Francisco     603\n",
      "Charlotte         596\n",
      "Pittsburgh        582\n",
      "Name: Subscribed, dtype: int64\n"
     ]
    }
   ],
   "source": [
    "dataframe2 = dataframe1.groupby('City')['Subscribed'].sum().nlargest(15,'first')\n",
    "\n",
    "print(dataframe2)"
   ]
  },
  {
   "cell_type": "code",
   "execution_count": 52,
   "id": "89dfc62d",
   "metadata": {},
   "outputs": [
    {
     "data": {
      "image/png": "[encoded data removed]",
      "text/plain": [
       "<Figure size 432x288 with 1 Axes>"
      ]
     },
     "metadata": {
      "needs_background": "light"
     },
     "output_type": "display_data"
    }
   ],
   "source": [
    "plt.plot(dataframe2)\n",
    "plt.xticks(rotation=35)\n",
    "plt.show()\n",
    "\n",
    "###Below figure says that most subscribers are from New York. And the most subscribers\n",
    "###are the cities can be seen in the x-axis."
   ]
  },
  {
   "cell_type": "code",
   "execution_count": null,
   "id": "c03747e1",
   "metadata": {},
   "outputs": [],
   "source": []
  }
 ],
 "metadata": {
  "kernelspec": {
   "display_name": "Python 3 (ipykernel)",
   "language": "python",
   "name": "python3"
  },
  "language_info": {
   "codemirror_mode": {
    "name": "ipython",
    "version": 3
   },
   "file_extension": ".py",
   "mimetype": "text/x-python",
   "name": "python",
   "nbconvert_exporter": "python",
   "pygments_lexer": "ipython3",
   "version": "3.8.5"
  }
 },
 "nbformat": 4,
 "nbformat_minor": 5
}
